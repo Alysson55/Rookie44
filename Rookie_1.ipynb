{
  "nbformat": 4,
  "nbformat_minor": 0,
  "metadata": {
    "colab": {
      "name": "Rookie.1",
      "provenance": [],
      "authorship_tag": "ABX9TyPJGX7cueJFx69jytmmGpfJ",
      "include_colab_link": true
    },
    "kernelspec": {
      "name": "python3",
      "display_name": "Python 3"
    },
    "language_info": {
      "name": "python"
    }
  },
  "cells": [
    {
      "cell_type": "markdown",
      "metadata": {
        "id": "view-in-github",
        "colab_type": "text"
      },
      "source": [
        "<a href=\"https://colab.research.google.com/github/Alysson55/Rookie44/blob/main/Rookie_1.ipynb\" target=\"_parent\"><img src=\"https://colab.research.google.com/assets/colab-badge.svg\" alt=\"Open In Colab\"/></a>"
      ]
    },
    {
      "cell_type": "markdown",
      "metadata": {
        "id": "dhL3l106vqoK"
      },
      "source": [
        "[1] função print"
      ]
    },
    {
      "cell_type": "code",
      "metadata": {
        "colab": {
          "base_uri": "https://localhost:8080/"
        },
        "id": "3hXO_a5UfcbK",
        "outputId": "8cf08243-fb1e-4c58-e36d-0468e1e02fd3"
      },
      "source": [
        "print(\"Eu me chamo Fabio.\")\n",
        "print(\"tenho 28 anos.\")\n",
        "print(\"moro em sao paulo.\")"
      ],
      "execution_count": null,
      "outputs": [
        {
          "output_type": "stream",
          "text": [
            "Eu me chamo Fabio.\n",
            "tenho 28 anos.\n",
            "moro em sao paulo.\n"
          ],
          "name": "stdout"
        }
      ]
    },
    {
      "cell_type": "code",
      "metadata": {
        "colab": {
          "base_uri": "https://localhost:8080/"
        },
        "id": "cjJl4KXNcrt3",
        "outputId": "89cf4aac-5b5f-4726-d58a-27a454c447d4"
      },
      "source": [
        "print(\"Eu me chamo Fabio.\\nTenho 28 anos.\\nMoro em São Paulo.\")"
      ],
      "execution_count": null,
      "outputs": [
        {
          "output_type": "stream",
          "text": [
            "Eu me chamo Fabio.\n",
            "Tenho 28 anos.\n",
            "Moro em São Paulo.\n"
          ],
          "name": "stdout"
        }
      ]
    },
    {
      "cell_type": "code",
      "metadata": {
        "id": "MNHHPOQBd-Cb"
      },
      "source": [
        "print?"
      ],
      "execution_count": null,
      "outputs": []
    },
    {
      "cell_type": "code",
      "metadata": {
        "colab": {
          "base_uri": "https://localhost:8080/"
        },
        "id": "1zIY12x_eTrH",
        "outputId": "daf26ba8-04c7-405a-c75c-30b731b0b83f"
      },
      "source": [
        "print('objeto1', 2, 'objeto3', True)"
      ],
      "execution_count": null,
      "outputs": [
        {
          "output_type": "stream",
          "text": [
            "objeto1 2 objeto3 True\n"
          ],
          "name": "stdout"
        }
      ]
    },
    {
      "cell_type": "markdown",
      "metadata": {
        "id": "PAzhq7befXYi"
      },
      "source": [
        " \n",
        "Nos podemos modificar o separador de objetos"
      ]
    },
    {
      "cell_type": "code",
      "metadata": {
        "colab": {
          "base_uri": "https://localhost:8080/"
        },
        "id": "UuCr9ZQmgLMR",
        "outputId": "b040ae1f-0a49-4825-a7fd-0f76f29fa63f"
      },
      "source": [
        "print(\"Podemos modificar\", \"o separador de objetos padrão\", sep=\" \"*10)\n",
        "print(\"Podemos modificar\", \"o separador de objetos padrão\", sep=\" ... \")\n",
        "print(\"Podemos modificar\", \"o separador de objetos padrão\")"
      ],
      "execution_count": null,
      "outputs": [
        {
          "output_type": "stream",
          "text": [
            "Podemos modificar          o separador de objetos padrão\n",
            "Podemos modificar ... o separador de objetos padrão\n",
            "Podemos modificar o separador de objetos padrão\n"
          ],
          "name": "stdout"
        }
      ]
    },
    {
      "cell_type": "code",
      "metadata": {
        "colab": {
          "base_uri": "https://localhost:8080/"
        },
        "id": "nW9U4Lp7iCz3",
        "outputId": "ee4150ce-88e2-452e-f43a-152022572f4d"
      },
      "source": [
        "print(\"Eu me chamo Fábio.\", end=\" \")\n",
        "print(\"Tenho 28 anos.\", end=\"\\n\\n\\n\")\n",
        "print(\"Moro em São Paulo.\", end=\" 👍🏿\")"
      ],
      "execution_count": null,
      "outputs": [
        {
          "output_type": "stream",
          "text": [
            "Eu me chamo Fábio. Tenho 28 anos.\n",
            "\n",
            "\n",
            "Moro em São Paulo. 👍🏿"
          ],
          "name": "stdout"
        }
      ]
    },
    {
      "cell_type": "markdown",
      "metadata": {
        "id": "VilV0uegkfZ4"
      },
      "source": [
        "Duvida: se quiser escrever \"\\n\", como eu faço  \n",
        "Basta usar uma barra \\ antes do \\n, veja o exemplo:"
      ]
    },
    {
      "cell_type": "code",
      "metadata": {
        "colab": {
          "base_uri": "https://localhost:8080/"
        },
        "id": "ZaCIjCrBlehV",
        "outputId": "26b2dab6-2b5f-4ebd-c9db-29206f1f0e8b"
      },
      "source": [
        "print(\"usando uma barra para não pular linha: \\\\n\")"
      ],
      "execution_count": null,
      "outputs": [
        {
          "output_type": "stream",
          "text": [
            "usando uma barra para não pular linha: \\n\n"
          ],
          "name": "stdout"
        }
      ]
    },
    {
      "cell_type": "code",
      "metadata": {
        "colab": {
          "base_uri": "https://localhost:8080/"
        },
        "id": "U88dacdSltQi",
        "outputId": "84c540c7-43b4-4110-e2bb-e7ecf6fa19b6"
      },
      "source": [
        "print(\"usando mais duas barras \\\\\\\\n\")"
      ],
      "execution_count": null,
      "outputs": [
        {
          "output_type": "stream",
          "text": [
            "usando mais duas barras \\\\n\n"
          ],
          "name": "stdout"
        }
      ]
    },
    {
      "cell_type": "markdown",
      "metadata": {
        "id": "f6trMnoLwZEQ"
      },
      "source": [
        "Função input para coletar dados\n",
        "Nesse exercicio abaixo devemos usar a função input para coletar dados do usuário"
      ]
    },
    {
      "cell_type": "code",
      "metadata": {
        "id": "Af0zwa06wh6U"
      },
      "source": [
        "Nome = input(\"Qual é o seu nome?\")\n",
        "print(f\"Ola,{nome}!\")"
      ],
      "execution_count": null,
      "outputs": []
    },
    {
      "cell_type": "code",
      "metadata": {
        "id": "Z_gLc2--50Cm",
        "colab": {
          "base_uri": "https://localhost:8080/"
        },
        "outputId": "52452d35-efde-40b6-d439-45fb9a104c9a"
      },
      "source": [
        "Print?"
      ],
      "execution_count": null,
      "outputs": [
        {
          "output_type": "stream",
          "text": [
            "Object `Print` not found.\n"
          ],
          "name": "stdout"
        }
      ]
    },
    {
      "cell_type": "markdown",
      "metadata": {
        "id": "OdgOBkhxH9ki"
      },
      "source": [
        "Formatação em python 👇🏾"
      ]
    },
    {
      "cell_type": "code",
      "metadata": {
        "id": "pPMvqRXpJcdO"
      },
      "source": [
        "cor1 = 'azul'\n",
        "cor2 = 'verde'"
      ],
      "execution_count": null,
      "outputs": []
    },
    {
      "cell_type": "code",
      "metadata": {
        "colab": {
          "base_uri": "https://localhost:8080/",
          "height": 308
        },
        "id": "qs76n_VmJpj4",
        "outputId": "004f488a-9075-4dcd-c42c-1e7bf6f97ae6"
      },
      "source": [
        "print('O céu é {0}, a flor é {1} e meu carro é {0}'.format(cor1, cor2))"
      ],
      "execution_count": null,
      "outputs": [
        {
          "output_type": "error",
          "ename": "NameError",
          "evalue": "ignored",
          "traceback": [
            "\u001b[0;31m---------------------------------------------------------------------------\u001b[0m",
            "\u001b[0;31mNameError\u001b[0m                                 Traceback (most recent call last)",
            "\u001b[0;32m<ipython-input-9-f1325ca1efca>\u001b[0m in \u001b[0;36m<module>\u001b[0;34m()\u001b[0m\n\u001b[0;32m----> 1\u001b[0;31m \u001b[0mprint\u001b[0m\u001b[0;34m(\u001b[0m\u001b[0;34m'O céu é {0}, a flor é {1} e meu carro é {0}'\u001b[0m\u001b[0;34m.\u001b[0m\u001b[0mformat\u001b[0m\u001b[0;34m(\u001b[0m\u001b[0mcor1\u001b[0m\u001b[0;34m,\u001b[0m \u001b[0mcor2\u001b[0m\u001b[0;34m)\u001b[0m\u001b[0;34m)\u001b[0m\u001b[0;34m\u001b[0m\u001b[0;34m\u001b[0m\u001b[0m\n\u001b[0m",
            "\u001b[0;31mNameError\u001b[0m: name 'cor1' is not defined"
          ]
        }
      ]
    },
    {
      "cell_type": "markdown",
      "metadata": {
        "id": "0_7CBiBKBEpO"
      },
      "source": [
        "CONDIÇÕES IF ELSE PYTHON"
      ]
    },
    {
      "cell_type": "code",
      "metadata": {
        "colab": {
          "base_uri": "https://localhost:8080/"
        },
        "id": "b_K-FQDYBISb",
        "outputId": "375a11d0-6f4d-4395-de8c-05329c4df3c0"
      },
      "source": [
        "comida = 'pizza'\n",
        "if comida == 'pizza':\n",
        "  print('possui muitas calorias')"
      ],
      "execution_count": null,
      "outputs": [
        {
          "output_type": "stream",
          "text": [
            "possui muitas calorias\n"
          ],
          "name": "stdout"
        }
      ]
    },
    {
      "cell_type": "code",
      "metadata": {
        "colab": {
          "base_uri": "https://localhost:8080/"
        },
        "id": "QI0KqL6jB3cH",
        "outputId": "1f8c1683-6711-4f04-bfe1-3c1036a10592"
      },
      "source": [
        " comida = 'macarrao'\n",
        "if comida == 'pizza':\n",
        "  print('possui muitas calorias') \n",
        " else:\n",
        "  print('desconheço as calorias')"
      ],
      "execution_count": null,
      "outputs": [
        {
          "output_type": "stream",
          "text": [
            "desconheço as calorias\n"
          ],
          "name": "stdout"
        }
      ]
    },
    {
      "cell_type": "code",
      "metadata": {
        "id": "kzU6Nh3sDSAw"
      },
      "source": [
        " comida = 'macarrao'\n",
        "if comida == 'pizza':\n",
        "  print('possui muitas calorias') \n",
        "elif comida == 'abobora':\n",
        "  print('tem poucas calorias')\n",
        "elif comida == 'churrasco': \n",
        "  print('possui poucas calorias')\n",
        "elif comida == 'melao': \n",
        "  print('possui poucas calorias')"
      ],
      "execution_count": null,
      "outputs": []
    },
    {
      "cell_type": "code",
      "metadata": {
        "colab": {
          "base_uri": "https://localhost:8080/"
        },
        "id": "VSy3F5XLSXeS",
        "outputId": "7bcf030e-c390-4a18-bfd2-f29a7def700e"
      },
      "source": [
        " comida = 'churrasco'\n",
        "if comida == 'pizza':\n",
        "  print('possui muitas calorias') \n",
        "elif comida == 'abobora':\n",
        "  print('tem poucas calorias')\n",
        "elif comida == 'churrasco': \n",
        "  print('possui muitas calorias')\n",
        "elif comida == 'melao': \n",
        "  print('possui poucas calorias')\n",
        "else: \n",
        "   print('desconheço as calorias!')"
      ],
      "execution_count": null,
      "outputs": [
        {
          "output_type": "stream",
          "text": [
            "possui muitas calorias\n"
          ],
          "name": "stdout"
        }
      ]
    },
    {
      "cell_type": "markdown",
      "metadata": {
        "id": "WQGN1_ZsT8FI"
      },
      "source": [
        "Se diferente for: usa se !="
      ]
    },
    {
      "cell_type": "code",
      "metadata": {
        "colab": {
          "base_uri": "https://localhost:8080/"
        },
        "id": "fvxIiX3zTGJt",
        "outputId": "4d2b8ad8-9fc3-413e-f7ae-a27d4b3cf151"
      },
      "source": [
        "comida == 'pizza'\n",
        "if comida != 'pizza':\n",
        "    print('nao é pizza!')\n",
        "else:\n",
        "    print('É pizza')"
      ],
      "execution_count": null,
      "outputs": [
        {
          "output_type": "stream",
          "text": [
            "nao é pizza!\n"
          ],
          "name": "stdout"
        }
      ]
    },
    {
      "cell_type": "code",
      "metadata": {
        "colab": {
          "base_uri": "https://localhost:8080/"
        },
        "id": "dal_YAe8VijY",
        "outputId": "16652652-1a93-4170-b715-51fed180b94b"
      },
      "source": [
        "ano = int(input('Que ano você nasceu?'))\n",
        "idade = 2019 - ano\n",
        "if idade >= 18:\n",
        "   print('Você é adulto!')\n",
        "else:\n",
        "   print('Você ainda não é adulto')"
      ],
      "execution_count": null,
      "outputs": [
        {
          "output_type": "stream",
          "text": [
            "Que ano você nasceu?2004\n",
            "Você ainda não é adulto\n"
          ],
          "name": "stdout"
        }
      ]
    },
    {
      "cell_type": "code",
      "metadata": {
        "id": "-fer3Q4IWB5Q"
      },
      "source": [
        ""
      ],
      "execution_count": null,
      "outputs": []
    }
  ]
}