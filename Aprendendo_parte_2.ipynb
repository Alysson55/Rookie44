{
  "nbformat": 4,
  "nbformat_minor": 0,
  "metadata": {
    "colab": {
      "name": "Aprendendo parte 2",
      "provenance": [],
      "authorship_tag": "ABX9TyP7xUCgzOQQQcWDdHoVKk0o",
      "include_colab_link": true
    },
    "kernelspec": {
      "name": "python3",
      "display_name": "Python 3"
    },
    "language_info": {
      "name": "python"
    }
  },
  "cells": [
    {
      "cell_type": "markdown",
      "metadata": {
        "id": "view-in-github",
        "colab_type": "text"
      },
      "source": [
        "<a href=\"https://colab.research.google.com/github/Alysson55/Rookie44/blob/main/Aprendendo_parte_2.ipynb\" target=\"_parent\"><img src=\"https://colab.research.google.com/assets/colab-badge.svg\" alt=\"Open In Colab\"/></a>"
      ]
    },
    {
      "cell_type": "markdown",
      "metadata": {
        "id": "aFsJDlbXWJ-w"
      },
      "source": [
        "Primeiros programas\n",
        "Treino No code python \n",
        "Praticando\n",
        "\n",
        "1-\n",
        "💡 Crie uma script Python que leia o nome de uma pessoa e mostra uma mensagem de boas vindas de acordo com o valor digitado"
      ]
    },
    {
      "cell_type": "code",
      "metadata": {
        "id": "axt2TlofWGlP",
        "colab": {
          "base_uri": "https://localhost:8080/"
        },
        "outputId": "5849e9d2-a2e7-4cb3-d90b-2aaac73b475f"
      },
      "source": [
        "nome = input ('qual o seu nome')\n",
        "print('ola',nome,'seja bem vindo')"
      ],
      "execution_count": null,
      "outputs": [
        {
          "output_type": "stream",
          "text": [
            "qual o seu nomeJoao\n",
            "ola Joao seja bem vindo\n"
          ],
          "name": "stdout"
        }
      ]
    },
    {
      "cell_type": "markdown",
      "metadata": {
        "id": "roic-FHpWJPp"
      },
      "source": [
        ""
      ]
    },
    {
      "cell_type": "markdown",
      "metadata": {
        "id": "ygEZWsEeXc3-"
      },
      "source": [
        " 2- 💡 Crie uma script em Python onde mostra dia mes e ano de aniversario de uma pessoa e mostre uma mensagem com a data formatada"
      ]
    },
    {
      "cell_type": "code",
      "metadata": {
        "id": "mPRpyyTWYMvN",
        "colab": {
          "base_uri": "https://localhost:8080/"
        },
        "outputId": "c8b045fc-0963-4652-ed8d-734397c84f41"
      },
      "source": [
        " dia = input('data de nascimento')\n",
        " mes = input('mês de nascimento')\n",
        " ano = input('ano')\n",
        " print('Você nasceu no dia',dia,'do',mes,'de',ano)"
      ],
      "execution_count": null,
      "outputs": [
        {
          "output_type": "stream",
          "text": [
            "data de nascimento 02\n",
            "mês de nascimento 09\n",
            "ano 1992\n",
            "Você nasceu no dia  02 do  09 de  1992\n"
          ],
          "name": "stdout"
        }
      ]
    },
    {
      "cell_type": "markdown",
      "metadata": {
        "id": "Ios7H_nbYNm1"
      },
      "source": [
        "3-💡 Crie uma script em python que leia dois numeros e mostre a soma entre eles"
      ]
    },
    {
      "cell_type": "code",
      "metadata": {
        "colab": {
          "base_uri": "https://localhost:8080/"
        },
        "id": "LOcBv7oAOIaa",
        "outputId": "48da12cc-c931-46bb-c7ab-c344d003c82f"
      },
      "source": [
        " \n",
        "print ('4' + '4')"
      ],
      "execution_count": null,
      "outputs": [
        {
          "output_type": "stream",
          "text": [
            "44\n"
          ],
          "name": "stdout"
        }
      ]
    },
    {
      "cell_type": "markdown",
      "metadata": {
        "id": "W7oCWPAkKut9"
      },
      "source": [
        " 1💡 --treinando sozinho baseado exemplo 1"
      ]
    },
    {
      "cell_type": "code",
      "metadata": {
        "colab": {
          "base_uri": "https://localhost:8080/"
        },
        "id": "FHbAqBJGK-tu",
        "outputId": "977fe79d-268a-41c3-e980-f483cfc769d6"
      },
      "source": [
        "nome = input('de onde voce é ')\n",
        "print ('eu sou de',nome,'sergipe')"
      ],
      "execution_count": null,
      "outputs": [
        {
          "output_type": "stream",
          "name": "stdout",
          "text": [
            "de onde voce é Aracaju\n",
            "eu sou de Aracaju sergipe\n"
          ]
        }
      ]
    },
    {
      "cell_type": "code",
      "metadata": {
        "colab": {
          "base_uri": "https://localhost:8080/"
        },
        "id": "J2LcR2LYQUzt",
        "outputId": "e18e1a9d-c413-4ed8-8f53-6415c8912b11"
      },
      "source": [
        " data = input('data de vencimento')\n",
        "valor = input('valor da fatura')\n",
        "print ('o dia do vencimento é ',data,'e o valor a pagar e',valor)"
      ],
      "execution_count": null,
      "outputs": [
        {
          "output_type": "stream",
          "name": "stdout",
          "text": [
            "data de vencimento12\n",
            "valor da fatura53\n",
            "o dia do vencimento é  12 e o valor a pagar e 53\n"
          ]
        }
      ]
    },
    {
      "cell_type": "code",
      "metadata": {
        "colab": {
          "base_uri": "https://localhost:8080/"
        },
        "id": "PzbESHtnA5Ec",
        "outputId": "e7b9e70c-bf96-4d1c-9a0c-5be2f2fa2db2"
      },
      "source": [
        "nome = input('cidade')\n",
        "provincia = input('provincia')\n",
        "print('ola eu sou de', nome, provincia)"
      ],
      "execution_count": null,
      "outputs": [
        {
          "output_type": "stream",
          "name": "stdout",
          "text": [
            "cidadeAracaju\n",
            "provinciaSergipe\n",
            "ola eu sou de Aracaju Sergipe\n"
          ]
        }
      ]
    },
    {
      "cell_type": "code",
      "metadata": {
        "colab": {
          "base_uri": "https://localhost:8080/"
        },
        "id": "uWgo3eAfK89u",
        "outputId": "beea360a-b0a8-4184-c2e8-0e2037cbe13a"
      },
      "source": [
        "nome = input('nome')\n",
        "pais = input('pais')\n",
        "idade = input('idade')\n",
        "peso = input('peso')\n",
        "print('meu nome é',nome,'meu pais é',pais,'tenho',idade,'e eu peso',peso)"
      ],
      "execution_count": null,
      "outputs": [
        {
          "output_type": "stream",
          "name": "stdout",
          "text": [
            "nomeAlysson\n",
            "paisMacedonia\n",
            "idade28\n",
            "peso98\n",
            "meu nome é Alysson meu pais é Macedonia tenho 28 e eu peso 98\n"
          ]
        }
      ]
    }
  ]
}